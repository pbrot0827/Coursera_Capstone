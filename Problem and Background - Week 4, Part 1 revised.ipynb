{
    "nbformat_minor": 1, 
    "cells": [
        {
            "source": "# Renting an apartment in New York City. ", 
            "cell_type": "markdown", 
            "metadata": {
                "collapsed": true
            }
        }, 
        {
            "source": "## 1. Introduction", 
            "cell_type": "markdown", 
            "metadata": {}
        }, 
        {
            "source": "### 1.1 Background", 
            "cell_type": "markdown", 
            "metadata": {}
        }, 
        {
            "source": "New York City is one of the most populated cities in the world.  The population is 8,622,698, as of July 1, 2017.  John is looking to rent an apartment in New York City for at least 1 year. New York City is one of the most popular places to live in the country.  Considering this context John is asking our help in finding a good neighborhood to live in.", 
            "cell_type": "markdown", 
            "metadata": {}
        }, 
        {
            "source": "### 1.2 Problem", 
            "cell_type": "markdown", 
            "metadata": {}
        }, 
        {
            "source": "In order for John to find the correct neighborhood to buy an apartment, we will need to use the information about the localities and the different neighborhoods of New York City. This is based on a number of factors such as proximity to a number of cultural attractions and a number of restaurants and nightlife.", 
            "cell_type": "markdown", 
            "metadata": {}
        }
    ], 
    "metadata": {
        "kernelspec": {
            "display_name": "Python 3.5", 
            "name": "python3", 
            "language": "python"
        }, 
        "language_info": {
            "mimetype": "text/x-python", 
            "nbconvert_exporter": "python", 
            "version": "3.5.5", 
            "name": "python", 
            "file_extension": ".py", 
            "pygments_lexer": "ipython3", 
            "codemirror_mode": {
                "version": 3, 
                "name": "ipython"
            }
        }
    }, 
    "nbformat": 4
}