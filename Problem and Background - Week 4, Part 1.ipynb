{
    "nbformat_minor": 1, 
    "cells": [
        {
            "source": "# Comparision of Neighborhoods between San Francisco and Los Angeles", 
            "cell_type": "markdown", 
            "metadata": {
                "collapsed": true
            }
        }, 
        {
            "source": "## 1. Introduction", 
            "cell_type": "markdown", 
            "metadata": {}
        }, 
        {
            "source": "### 1.1 Background", 
            "cell_type": "markdown", 
            "metadata": {}
        }, 
        {
            "source": "Los Angeles and San Francisco are two of the most popular cities to live in Calfornia.  John is looking to buy an apartment in one of these two cities to live three months of the year in his retirement.  Los Angeles' population as of 2019 is 4,057,841 and San Francisco's population is 897,536.   These two cities are very popular places to live and are also very popular for tourists.  Considering this context John is asking our help in finding which is a better city to live.", 
            "cell_type": "markdown", 
            "metadata": {}
        }, 
        {
            "source": "### 1.2 Problem", 
            "cell_type": "markdown", 
            "metadata": {}
        }, 
        {
            "source": "In order for John to find the correct city to buy an apartment, we will need use the information about the localities and the different neighborhoods of San Francisco and Los Angeles. This is based on a number of factors such as proximity to a number of attractions and a number of restaurants and nightlife.", 
            "cell_type": "markdown", 
            "metadata": {}
        }, 
        {
            "execution_count": null, 
            "cell_type": "code", 
            "metadata": {}, 
            "outputs": [], 
            "source": ""
        }
    ], 
    "metadata": {
        "kernelspec": {
            "display_name": "Python 3.5", 
            "name": "python3", 
            "language": "python"
        }, 
        "language_info": {
            "mimetype": "text/x-python", 
            "nbconvert_exporter": "python", 
            "version": "3.5.5", 
            "name": "python", 
            "file_extension": ".py", 
            "pygments_lexer": "ipython3", 
            "codemirror_mode": {
                "version": 3, 
                "name": "ipython"
            }
        }
    }, 
    "nbformat": 4
}