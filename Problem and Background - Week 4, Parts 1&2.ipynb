{
    "nbformat_minor": 1, 
    "cells": [
        {
            "source": "# Comparision of Neighborhoods between San Francisco and Los Angeles", 
            "cell_type": "markdown", 
            "metadata": {
                "collapsed": true
            }
        }, 
        {
            "source": "## 1. Introduction", 
            "cell_type": "markdown", 
            "metadata": {}
        }, 
        {
            "source": "### 1.1 Background", 
            "cell_type": "markdown", 
            "metadata": {}
        }, 
        {
            "source": "Los Angeles and San Francisco are two of the most popular cities to live in Calfornia. John is looking to buy an apartment in one of these two cities to live three months of the year for a work assignment. Los Angeles' population as of 2019 is 4,057,841 and San Francisco's population is 897,536. These two cities are very popular places to live and are also very popular for tourists. Considering this context John is asking our help in determining which is a better city to live and withing the city which is the best neighborhood to live in.", 
            "cell_type": "markdown", 
            "metadata": {}
        }, 
        {
            "source": "### 1.2 Problem", 
            "cell_type": "markdown", 
            "metadata": {}
        }, 
        {
            "source": "\nIn order for John to find the correct city to buy an apartment, we will need use the information about the localities and the different neighborhoods of San Francisco and Los Angeles. This is based on a number of factors such as proximity to a number of attractions and a number of restaurants and nightlife.", 
            "cell_type": "markdown", 
            "metadata": {}
        }, 
        {
            "source": "## 2. Data", 
            "cell_type": "markdown", 
            "metadata": {}
        }, 
        {
            "source": "To help John in his search we will need to scrap the following data:\n\n- The neighborhoods of San Francisco, California from Wikipedia: https://en.wikipedia.org/wiki/List_of_neighborhoods_in_San_Francisco\n\n- The neighborhoods of Los Angeles, California from Wikipedia: https://en.wikipedia.org/wiki/List_of_districts_and_neighborhoods_of_Los_Angeles\n\n- The coordinates (latitude, longitude) of these neighborhoods of San Francisco and from Open Street Map APIs\n\n- From Foursquare we will need following venues data:\n  - the restaurant venues of the neighborhoods\n  - the office venues of the neighborhoods\n  - the museum venues of the neighborhoods\n  - the bar venues of the neighborhoods\n\nWe will then leverage the data in order to determine which city and neighborhoods is the most appropriate for John to buy and apartment", 
            "cell_type": "markdown", 
            "metadata": {}
        }, 
        {
            "execution_count": null, 
            "cell_type": "code", 
            "metadata": {}, 
            "outputs": [], 
            "source": ""
        }
    ], 
    "metadata": {
        "kernelspec": {
            "display_name": "Python 3.5", 
            "name": "python3", 
            "language": "python"
        }, 
        "language_info": {
            "mimetype": "text/x-python", 
            "nbconvert_exporter": "python", 
            "version": "3.5.5", 
            "name": "python", 
            "file_extension": ".py", 
            "pygments_lexer": "ipython3", 
            "codemirror_mode": {
                "version": 3, 
                "name": "ipython"
            }
        }
    }, 
    "nbformat": 4
}